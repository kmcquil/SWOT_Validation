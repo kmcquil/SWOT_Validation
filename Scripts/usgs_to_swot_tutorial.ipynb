{
 "cells": [
  {
   "cell_type": "markdown",
   "metadata": {},
   "source": [
    "## Tutorial: Convert USGS gage heights to match SWOT water surface elevation"
   ]
  },
  {
   "cell_type": "markdown",
   "metadata": {},
   "source": [
    "Surface Water Ocean Topography (SWOT) Ka-band radar interferometer observes water surface area and elevation of inland water bodies. We validated SWOT LakeSP water surface elevation (WSE) using in situ observations from the USGS Lake/Reservoir Water Surface Elevation dataset (parameter code = 62615). \n",
    "\n",
    "To directly compare SWOT and USGS datasets, we needed to transform USGS coordinates to the SWOT horizontal and vertical datums. Finding the best tool and the correct parameters to perform this transformation was tricky! After trial and error, GDAL stood out as one of the simplest and most powerful tools for horizontal and vertical coordinate transformations. Next, we tested horizontal and vertical datum parameters to accurately transform the data. Datums for each dataset are noted in Table 1. "
   ]
  },
  {
   "cell_type": "markdown",
   "metadata": {},
   "source": [
    "Table 1. SWOT and USGS datum information\n",
    "| Data source | Horizontal Datum | Reference Ellipsoid | Vertical Datum |\n",
    "| --- | --- | --- | --- |\n",
    "| SWOT | ITRF2014 | WGS84 | EGM2008 |\n",
    "| USGS | NAD83 (2011) | GRS80 | NAVD88 |"
   ]
  },
  {
   "cell_type": "markdown",
   "metadata": {},
   "source": [
    "### USGS Data"
   ]
  },
  {
   "cell_type": "markdown",
   "metadata": {},
   "source": [
    "USGS data was represented using EPSG:6349. EPSG:6349 is a compound CRS that represents NAD83 (2011) + NAVD88 height. "
   ]
  },
  {
   "cell_type": "code",
   "execution_count": 10,
   "metadata": {},
   "outputs": [
    {
     "name": "stdout",
     "output_type": "stream",
     "text": [
      "COMPD_CS[\"NAD83(2011) + NAVD88 height\",\n",
      "    GEOGCS[\"NAD83(2011)\",\n",
      "        DATUM[\"NAD83_National_Spatial_Reference_System_2011\",\n",
      "            SPHEROID[\"GRS 1980\",6378137,298.257222101,\n",
      "                AUTHORITY[\"EPSG\",\"7019\"]],\n",
      "            AUTHORITY[\"EPSG\",\"1116\"]],\n",
      "        PRIMEM[\"Greenwich\",0,\n",
      "            AUTHORITY[\"EPSG\",\"8901\"]],\n",
      "        UNIT[\"degree\",0.0174532925199433,\n",
      "            AUTHORITY[\"EPSG\",\"9122\"]],\n",
      "        AXIS[\"Latitude\",NORTH],\n",
      "        AXIS[\"Longitude\",EAST],\n",
      "        AUTHORITY[\"EPSG\",\"6318\"]],\n",
      "    VERT_CS[\"NAVD88 height\",\n",
      "        VERT_DATUM[\"North American Vertical Datum 1988\",2005,\n",
      "            AUTHORITY[\"EPSG\",\"5103\"]],\n",
      "        UNIT[\"metre\",1,\n",
      "            AUTHORITY[\"EPSG\",\"9001\"]],\n",
      "        AXIS[\"Gravity-related height\",UP],\n",
      "        AUTHORITY[\"EPSG\",\"5703\"]],\n",
      "    AUTHORITY[\"EPSG\",\"6349\"]]\n"
     ]
    }
   ],
   "source": [
    "# Details of the the compound NAD83(2011) + NAVD88 (EPSG:6349)\n",
    "from osgeo import osr\n",
    "src = osr.SpatialReference()\n",
    "src.ImportFromEPSG(6349)\n",
    "print(src)"
   ]
  },
  {
   "cell_type": "markdown",
   "metadata": {},
   "source": [
    "### SWOT Data"
   ]
  },
  {
   "cell_type": "markdown",
   "metadata": {},
   "source": [
    "We were less certain about how to represent the SWOT datums and tested three different representations. \n",
    "\n",
    "First, we tried transforming USGS data to match SWOT using the generic WGS84 represented by EPSG:4326 for the horizontal datum and EGM2008 represented by EPSG:3855 for the vertical datum. We calculated validation statistics including mean bias error (MBE, meters), mean absolute error (MAE, meters), root mean square error (RMSE, meters), and one-sigma (meters)."
   ]
  },
  {
   "cell_type": "code",
   "execution_count": 9,
   "metadata": {},
   "outputs": [
    {
     "name": "stdout",
     "output_type": "stream",
     "text": [
      "GEOGCS[\"WGS 84\",\n",
      "    DATUM[\"WGS_1984\",\n",
      "        SPHEROID[\"WGS 84\",6378137,298.257223563,\n",
      "            AUTHORITY[\"EPSG\",\"7030\"]],\n",
      "        AUTHORITY[\"EPSG\",\"6326\"]],\n",
      "    PRIMEM[\"Greenwich\",0,\n",
      "        AUTHORITY[\"EPSG\",\"8901\"]],\n",
      "    UNIT[\"degree\",0.0174532925199433,\n",
      "        AUTHORITY[\"EPSG\",\"9122\"]],\n",
      "    AXIS[\"Latitude\",NORTH],\n",
      "    AXIS[\"Longitude\",EAST],\n",
      "    AUTHORITY[\"EPSG\",\"4326\"]]\n"
     ]
    }
   ],
   "source": [
    "# Details of EPSG:4326 generic WGS84\n",
    "dst = osr.SpatialReference()\n",
    "dst.ImportFromEPSG(4326)\n",
    "print(dst)"
   ]
  },
  {
   "cell_type": "code",
   "execution_count": 4,
   "metadata": {},
   "outputs": [
    {
     "name": "stdout",
     "output_type": "stream",
     "text": [
      "VERT_CS[\"EGM2008 height\",\n",
      "    VERT_DATUM[\"EGM2008 geoid\",2005,\n",
      "        AUTHORITY[\"EPSG\",\"1027\"]],\n",
      "    UNIT[\"metre\",1,\n",
      "        AUTHORITY[\"EPSG\",\"9001\"]],\n",
      "    AXIS[\"Gravity-related height\",UP],\n",
      "    AUTHORITY[\"EPSG\",\"3855\"]]\n"
     ]
    }
   ],
   "source": [
    "# Details of EPSG:3855 EGM2008\n",
    "v_dst = osr.SpatialReference()\n",
    "v_dst.ImportFromEPSG(3855)\n",
    "print(v_dst)"
   ]
  },
  {
   "cell_type": "code",
   "execution_count": 11,
   "metadata": {},
   "outputs": [
    {
     "name": "stdout",
     "output_type": "stream",
     "text": [
      "The number of cotemporal USGS and SWOT observations = 425\n"
     ]
    }
   ],
   "source": [
    "# Load modules\n",
    "import os\n",
    "import pandas as pd\n",
    "import subprocess\n",
    "import numpy as np\n",
    "import math\n",
    "\n",
    "home = \"C:/Users/kmcquil/Documents/SWOT_Validation\"\n",
    "\n",
    "# Open the dataset of cotemporal SWOT and USGS observations\n",
    "swot_usgs_df = pd.read_csv(os.path.join(home, \"Data/usgs_swot_merged_exaple.csv\"), index_col=0)\n",
    "\n",
    "# How many cotemporal observations? \n",
    "print('The number of cotemporal USGS and SWOT observations = ' + str(swot_usgs_df.shape[0]))\n",
    "\n",
    "# Get data into correct format to pass to gdal including longitude, latitude, and gage height in feet\n",
    "in_gdal = swot_usgs_df[[\"usgs_long\", \"usgs_lat\", \"usgs_X_62615_00000\"]].copy()\n",
    "\n",
    "# Since the USGS heights are in feet but the projection we have assigned are in meters, convert heights to meters\n",
    "in_gdal.loc[:,'usgs_X_62615_00000'] = in_gdal.loc[:,'usgs_X_62615_00000'] * 0.3048\n",
    "\n",
    "# Create a column with long, lat, height combined \n",
    "in_gdal.loc[:,\"out\"] = [\n",
    "    str(i) + \" \" + str(j) + \" \" + str(k)\n",
    "    for i, j, k in zip(\n",
    "        in_gdal[\"usgs_long\"],\n",
    "        in_gdal[\"usgs_lat\"],\n",
    "        in_gdal[\"usgs_X_62615_00000\"],\n",
    "    )\n",
    "]\n",
    "\n",
    "# Save the combined column to a text file\n",
    "in_gdal[\"out\"].to_csv(\n",
    "    os.path.join(home, \"Data/USGS/gdal_in.txt\"), header=False, index=False\n",
    ")\n",
    "\n",
    "# Function to transform the USGS heights and calculate validation stats \n",
    "out_df = swot_usgs_df.copy()\n",
    "def transform_height(gdal_command, fp, label):\n",
    "    subprocess.run(gdal_command, shell=True)\n",
    "    out_gdal = pd.read_csv(os.path.join(home, fp), header=None)\n",
    "    out_gdal = out_gdal.rename(columns={0: \"result\"})\n",
    "    out_gdal[[\"usgs_long\", \"usgs_lat\", \"usgs_X_62615_00000_egm0_meters\"]] = out_gdal[\"result\"].str.split(\" \", expand=True)\n",
    "    out_df[\"usgs_X_62615_00000_egm0_meters\"] = out_gdal[\"usgs_X_62615_00000_egm0_meters\"].astype(float)\n",
    "\n",
    "    mae = np.mean(np.abs(np.subtract(out_df[\"usgs_X_62615_00000_egm0_meters\"], out_df[\"swot_wse\"])))\n",
    "    bias = np.mean(np.subtract(out_df[\"usgs_X_62615_00000_egm0_meters\"], out_df[\"swot_wse\"]))\n",
    "    rmse = math.sqrt(np.square(np.subtract(out_df[\"usgs_X_62615_00000_egm0_meters\"], out_df[\"swot_wse\"])).mean())\n",
    "    one_sigma = np.quantile(np.abs(np.subtract(out_df[\"usgs_X_62615_00000_egm0_meters\"], out_df[\"swot_wse\"])),0.68)\n",
    "    return pd.DataFrame([[label, bias, mae, rmse, one_sigma]], columns=[\"Command\", \"MBE (m)\", \"MAE (m)\", \"RMSE (m)\", \"One-Sigma (m)\"])"
   ]
  },
  {
   "cell_type": "code",
   "execution_count": 12,
   "metadata": {},
   "outputs": [
    {
     "name": "stdout",
     "output_type": "stream",
     "text": [
      "               Command   MBE (m)   MAE (m)  RMSE (m)  One-Sigma (m)\n",
      "0  EPSG:4326, No epoch  0.938846  1.174174  1.371652       1.235044\n"
     ]
    }
   ],
   "source": [
    "# Convert from NAD83(2011) + NAVD88 to match SWOT using generic WGS84 EPSG:4326 and EGM2008\n",
    "gdal_command = 'gdaltransform -s_srs \"EPSG:6349\" -t_srs \"EPSG:4326+EPSG:3855\" < \"C:/Users/kmcquil/Documents/SWOT_Validation/Data/USGS/gdal_in.txt\" > \"C:/Users/kmcquil/Documents/SWOT_Validation/Data/USGS/gdal_out_6349_4326_3855.txt\"'\n",
    "label = \"EPSG:4326, No epoch\"\n",
    "fp = \"Data/USGS/gdal_out_6349_4326_3855.txt\"\n",
    "epsg4326_noepoch = transform_height(gdal_command, fp, label)\n",
    "print(epsg4326_noepoch)"
   ]
  },
  {
   "cell_type": "markdown",
   "metadata": {},
   "source": [
    "The generic WGS84 (EPSG:4326) did not result in close comparison between USGS and SWOT elevations, with a MBE and MAE of approximately 1 meter. \n",
    "\n",
    "Further digging revealed that using the generic WGS84 (EPSG:4326) is not recommended because it is based on a datum ensemble whose positional accuracy is approximately two meters. Instead, a realization such as WGS84 (G1762) is recommended. WGS84 (G1762) and ITRF 2014 are equivalent for all practical purposes when their epochs are the same. \n",
    "\n",
    "Epochs are used to define a reference date for positions esablished using the datum ellipsoid and reference frame. Due to tectonic plate movement, landmasses are constantly moving in relationship to each other and in relation to the reference frame. Therefore, accounting for the epoch is necessary for accurate coordinate transformations. \n",
    "\n",
    "Next, we tested two configurations using WGS84 (G1762) which is represented by EPSG:9057. One configuration set the epoch for each dataset and the other did not. "
   ]
  },
  {
   "cell_type": "code",
   "execution_count": 13,
   "metadata": {},
   "outputs": [
    {
     "name": "stdout",
     "output_type": "stream",
     "text": [
      "GEOGCS[\"WGS 84 (G1762)\",\n",
      "    DATUM[\"World_Geodetic_System_1984_G1762\",\n",
      "        SPHEROID[\"WGS 84\",6378137,298.257223563,\n",
      "            AUTHORITY[\"EPSG\",\"7030\"]],\n",
      "        AUTHORITY[\"EPSG\",\"1156\"]],\n",
      "    PRIMEM[\"Greenwich\",0,\n",
      "        AUTHORITY[\"EPSG\",\"8901\"]],\n",
      "    UNIT[\"degree\",0.0174532925199433,\n",
      "        AUTHORITY[\"EPSG\",\"9122\"]],\n",
      "    AXIS[\"Latitude\",NORTH],\n",
      "    AXIS[\"Longitude\",EAST],\n",
      "    AUTHORITY[\"EPSG\",\"9057\"]]\n"
     ]
    }
   ],
   "source": [
    "# Details for EPSG:9057 WGS84 (G1762)\n",
    "dst = osr.SpatialReference()\n",
    "dst.ImportFromEPSG(9057)\n",
    "print(dst)"
   ]
  },
  {
   "cell_type": "code",
   "execution_count": 14,
   "metadata": {},
   "outputs": [
    {
     "name": "stdout",
     "output_type": "stream",
     "text": [
      "               Command   MBE (m)   MAE (m)  RMSE (m)  One-Sigma (m)\n",
      "0  EPSG:9057, No epoch -0.158443  0.299551   0.97709       0.134066\n"
     ]
    }
   ],
   "source": [
    "# Convert from NAD83(2011) + NAVD88 to match SWOT using WGS84 (G1762) EPSG:9057 and EGM2008\n",
    "gdal_command = 'gdaltransform -s_srs \"EPSG:6349\" -t_srs \"EPSG:9057+EPSG:3855\" < \"C:/Users/kmcquil/Documents/SWOT_Validation/Data/USGS/gdal_in.txt\" > \"C:/Users/kmcquil/Documents/SWOT_Validation/Data/USGS/gdal_out_6349_9057_3855.txt\"'\n",
    "label = \"EPSG:9057, No epoch\"\n",
    "fp = \"Data/USGS/gdal_out_6349_9057_3855.txt\"\n",
    "epsg9057_noepoch = transform_height(gdal_command, fp, label)\n",
    "print(epsg9057_noepoch)"
   ]
  },
  {
   "cell_type": "markdown",
   "metadata": {},
   "source": [
    "The NAD83 (2011) epoch is 2010.0. The standard epoch of WGS84 (G1762) is 2005.0 and the standard epoch of ITRF2014 is 2010.0. Since SWOT is based on ITRF2014, we set the target epoch to 2010.0. "
   ]
  },
  {
   "cell_type": "code",
   "execution_count": 15,
   "metadata": {},
   "outputs": [
    {
     "name": "stdout",
     "output_type": "stream",
     "text": [
      "                   Command   MBE (m)   MAE (m)  RMSE (m)  One-Sigma (m)\n",
      "0  EPSG:9057, Epoch = 2010 -0.144761  0.299489  0.974874       0.139806\n"
     ]
    }
   ],
   "source": [
    "# Convert from NAD83(2011) + NAVD88 to match SWOT using WGS84 (G1762) EPSG:9057 and EGM2008 and set the epoch = 2010.0\n",
    "gdal_command = 'gdaltransform -s_coord_epoch \"2010.0\" -t_coord_epoch \"2010.0\" -s_srs \"EPSG:6349\" -t_srs \"EPSG:9057+EPSG:3855\" < \"C:/Users/kmcquil/Documents/SWOT_Validation/Data/USGS/gdal_in.txt\" > \"C:/Users/kmcquil/Documents/SWOT_Validation/Data/USGS/gdal_out_6349_9057_3855_epoch_2010.txt\"'\n",
    "label = \"EPSG:9057, Epoch = 2010\"\n",
    "fp = \"Data/USGS/gdal_out_6349_9057_3855_epoch_2010.txt\"\n",
    "epsg9057_epoch2010 = transform_height(gdal_command, fp, label)\n",
    "print(epsg9057_epoch2010)"
   ]
  },
  {
   "cell_type": "code",
   "execution_count": 16,
   "metadata": {},
   "outputs": [
    {
     "name": "stdout",
     "output_type": "stream",
     "text": [
      "                   Command   MBE (m)   MAE (m)  RMSE (m)  One-Sigma (m)\n",
      "0      EPSG:4326, No epoch  0.938846  1.174174  1.371652       1.235044\n",
      "0      EPSG:9057, No epoch -0.158443  0.299551  0.977090       0.134066\n",
      "0  EPSG:9057, Epoch = 2010 -0.144761  0.299489  0.974874       0.139806\n"
     ]
    }
   ],
   "source": [
    "# Compare the validation statistics using different SWOT datum parameters.\n",
    "perf = pd.concat([epsg4326_noepoch, epsg9057_noepoch, epsg9057_epoch2010])\n",
    "print(perf)"
   ]
  },
  {
   "cell_type": "markdown",
   "metadata": {},
   "source": [
    "\n",
    "Using WGS84 (G1762) resulted in closer agreement between USGS and SWOT elevations. Accounting for the epoch made a small difference but is important to accurately represent horizontal and vertical coordinate transformations. \n"
   ]
  },
  {
   "cell_type": "markdown",
   "metadata": {},
   "source": [
    "### Key takeaways \n",
    "1. Don't use the generic WGS84 - instead use WGS84 (G1762)\n",
    "2. Set the epoch\n",
    "3. Sample gdal command to convert USGS coordinates to the datum used by SWOT:\n",
    "```\n",
    "gdaltransform -s_coord_epoch \"2010.0\" -t_coord_epoch \"2010.0\" \n",
    "-s_srs \"EPSG:6349\" -t_srs \"EPSG:9057+EPSG:3855\" \n",
    "< \"gdal_in.txt\" > \"gdal_out_6349_9057_3855_epoch_2010.txt\"\n",
    "```"
   ]
  }
 ],
 "metadata": {
  "kernelspec": {
   "display_name": "swot-wind",
   "language": "python",
   "name": "python3"
  },
  "language_info": {
   "codemirror_mode": {
    "name": "ipython",
    "version": 3
   },
   "file_extension": ".py",
   "mimetype": "text/x-python",
   "name": "python",
   "nbconvert_exporter": "python",
   "pygments_lexer": "ipython3",
   "version": "3.9.18"
  }
 },
 "nbformat": 4,
 "nbformat_minor": 2
}
